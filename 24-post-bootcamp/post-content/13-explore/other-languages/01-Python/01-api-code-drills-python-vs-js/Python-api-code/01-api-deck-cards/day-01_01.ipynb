{
 "cells": [
  {
   "cell_type": "code",
   "execution_count": 6,
   "metadata": {},
   "outputs": [],
   "source": [
    "# Import your dependencies requests and json\n"
   ]
  },
  {
   "cell_type": "code",
   "execution_count": 7,
   "metadata": {},
   "outputs": [],
   "source": [
    "# Create a variable called query_url\n",
    "    # Set it to \"https://deckofcardsapi.com/api/deck/new/shuffle/?deck_count=1\"\n"
   ]
  },
  {
   "cell_type": "code",
   "execution_count": 8,
   "metadata": {},
   "outputs": [
    {
     "name": "stdout",
     "output_type": "stream",
     "text": [
      "<Response [200]>\n"
     ]
    }
   ],
   "source": [
    "# Print the response object to the terminal\n"
   ]
  },
  {
   "cell_type": "code",
   "execution_count": 9,
   "metadata": {},
   "outputs": [
    {
     "name": "stdout",
     "output_type": "stream",
     "text": [
      "{'deck_id': 'kdniihw7h0ua', 'shuffled': True, 'remaining': 52, 'success': True}\n"
     ]
    }
   ],
   "source": [
    "# Convert the data into a json and print\n"
   ]
  },
  {
   "cell_type": "code",
   "execution_count": 11,
   "metadata": {},
   "outputs": [
    {
     "name": "stdout",
     "output_type": "stream",
     "text": [
      "{\n",
      "    \"deck_id\": \"ea8xububu0ga\",\n",
      "    \"remaining\": 52,\n",
      "    \"shuffled\": true,\n",
      "    \"success\": true\n",
      "}\n"
     ]
    }
   ],
   "source": [
    "# Print the JSON output in a pretty format.\n"
   ]
  },
  {
   "cell_type": "code",
   "execution_count": 16,
   "metadata": {},
   "outputs": [
    {
     "name": "stdout",
     "output_type": "stream",
     "text": [
      "ea8xububu0ga\n",
      "52\n"
     ]
    }
   ],
   "source": [
    "# Print only the deck_id from response.\n",
    "\n",
    "\n",
    "# Print only the 'remaining' from response.\n",
    "\n"
   ]
  }
 ],
 "metadata": {
  "kernelspec": {
   "display_name": "Python 3",
   "language": "python",
   "name": "python3"
  },
  "language_info": {
   "codemirror_mode": {
    "name": "ipython",
    "version": 3
   },
   "file_extension": ".py",
   "mimetype": "text/x-python",
   "name": "python",
   "nbconvert_exporter": "python",
   "pygments_lexer": "ipython3",
   "version": "3.6.5"
  }
 },
 "nbformat": 4,
 "nbformat_minor": 2
}
