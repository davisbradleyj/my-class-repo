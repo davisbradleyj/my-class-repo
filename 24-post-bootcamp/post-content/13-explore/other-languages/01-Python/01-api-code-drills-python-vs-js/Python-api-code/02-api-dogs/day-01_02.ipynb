{
 "cells": [
  {
   "cell_type": "code",
   "execution_count": 5,
   "metadata": {},
   "outputs": [],
   "source": [
    "# Import your dependencies requests and json\n"
   ]
  },
  {
   "cell_type": "code",
   "execution_count": 19,
   "metadata": {},
   "outputs": [
    {
     "name": "stdout",
     "output_type": "stream",
     "text": [
      "What type of breed?husky\n"
     ]
    }
   ],
   "source": [
    "# Create a variable called dog_search\n",
    "    # Request for user input with the question \"What type of breed?\"\n",
    "        # Example \"husky\" as an input\n",
    "    \n"
   ]
  },
  {
   "cell_type": "code",
   "execution_count": 20,
   "metadata": {},
   "outputs": [],
   "source": [
    "# Create a variable called query_url\n",
    "    # Add dog_search to the middle of the two strings below \n",
    "    # \"https://dog.ceo/api/breed/\" and \"/images/random\" \n",
    "\n"
   ]
  },
  {
   "cell_type": "code",
   "execution_count": 21,
   "metadata": {},
   "outputs": [
    {
     "name": "stdout",
     "output_type": "stream",
     "text": [
      "https://dog.ceo/api/breed/husky/images/random\n"
     ]
    }
   ],
   "source": [
    "# Print the query_url\n",
    "\n"
   ]
  },
  {
   "cell_type": "code",
   "execution_count": 23,
   "metadata": {},
   "outputs": [
    {
     "name": "stdout",
     "output_type": "stream",
     "text": [
      "{\n",
      "  \"message\": \"https://images.dog.ceo/breeds/husky/n02110185_7117.jpg\",\n",
      "  \"status\": \"success\"\n",
      "}\n"
     ]
    }
   ],
   "source": [
    "# Set the variable 'response' to the data from query_url as a json format\n",
    "\n",
    "\n",
    "# Print a pretty formatted json.\n"
   ]
  },
  {
   "cell_type": "code",
   "execution_count": 24,
   "metadata": {},
   "outputs": [
    {
     "name": "stdout",
     "output_type": "stream",
     "text": [
      "https://images.dog.ceo/breeds/husky/n02110185_7117.jpg\n"
     ]
    }
   ],
   "source": [
    "# Print only the dog image url from the json response\n"
   ]
  },
  {
   "cell_type": "code",
   "execution_count": null,
   "metadata": {},
   "outputs": [],
   "source": []
  },
  {
   "cell_type": "code",
   "execution_count": null,
   "metadata": {},
   "outputs": [],
   "source": []
  }
 ],
 "metadata": {
  "kernelspec": {
   "display_name": "Python 3",
   "language": "python",
   "name": "python3"
  },
  "language_info": {
   "codemirror_mode": {
    "name": "ipython",
    "version": 3
   },
   "file_extension": ".py",
   "mimetype": "text/x-python",
   "name": "python",
   "nbconvert_exporter": "python",
   "pygments_lexer": "ipython3",
   "version": "3.6.5"
  }
 },
 "nbformat": 4,
 "nbformat_minor": 2
}
